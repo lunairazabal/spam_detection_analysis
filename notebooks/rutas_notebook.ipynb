{
 "cells": [
  {
   "cell_type": "code",
   "execution_count": 78,
   "metadata": {},
   "outputs": [],
   "source": [
    "import pandas as pd\n",
    "import os\n",
    "import seaborn as sns\n",
    "import numpy as np\n",
    "import nltk     \n",
    "import re\n",
    "import string\n",
    "import spacy\n",
    "from nltk.corpus import wordnet\n",
    "import matplotlib.pyplot as plt\n",
    "from nltk.corpus import stopwords\n",
    "from nltk.stem import WordNetLemmatizer\n",
    "from nltk.tokenize import word_tokenize\n",
    "\n"
   ]
  },
  {
   "cell_type": "code",
   "execution_count": 79,
   "metadata": {},
   "outputs": [],
   "source": [
    "MODELS_PATH = os.path.join( '..', 'models')"
   ]
  },
  {
   "cell_type": "code",
   "execution_count": 80,
   "metadata": {},
   "outputs": [
    {
     "name": "stdout",
     "output_type": "stream",
     "text": [
      "Ruta del modelo: ..\\models\\xgb_app.dat\n"
     ]
    }
   ],
   "source": [
    "print(f\"Ruta del modelo: {os.path.join(MODELS_PATH, 'xgb_app.dat')}\")\n"
   ]
  },
  {
   "cell_type": "code",
   "execution_count": 81,
   "metadata": {},
   "outputs": [
    {
     "name": "stdout",
     "output_type": "stream",
     "text": [
      "c:\\Users\\lunai\\OneDrive\\Escritorio\\capstone1\\spam_detection_analysis\\notebooks\n"
     ]
    }
   ],
   "source": [
    "print(os.getcwd())"
   ]
  },
  {
   "cell_type": "code",
   "execution_count": 82,
   "metadata": {},
   "outputs": [
    {
     "name": "stdout",
     "output_type": "stream",
     "text": [
      "c:\\Users\\lunai\\OneDrive\\Escritorio\\capstone1\\spam_detection_analysis\\notebooks\n"
     ]
    }
   ],
   "source": [
    "script_directory = os.path.dirname(os.path.abspath('xgb_app.dat'))\n",
    "print(script_directory)"
   ]
  },
  {
   "cell_type": "code",
   "execution_count": 83,
   "metadata": {},
   "outputs": [
    {
     "name": "stdout",
     "output_type": "stream",
     "text": [
      "c:\\Users\\lunai\\OneDrive\\Escritorio\\capstone1\\spam_detection_analysis\\notebooks\\models\\xgb_app.dat\n"
     ]
    }
   ],
   "source": [
    "model_path = os.path.join(script_directory, \"models\", \"xgb_app.dat\")\n",
    "print(model_path)"
   ]
  },
  {
   "cell_type": "code",
   "execution_count": 84,
   "metadata": {},
   "outputs": [],
   "source": [
    "texto = \"prueba\"\n",
    "\n",
    "\n",
    "def transformations(data):\n",
    "    if data == \"NA\":\n",
    "        return \"NA\"\n",
    "    else:\n",
    "        data = re.sub(r'\\b(u)\\b', 'you', data)\n",
    "        data = re.sub(r'\\b(2)\\b', 'to', data)\n",
    "        data = re.sub(r'\\b(i\\' m)\\b', 'i am', data)\n",
    "        data = re.sub(r'\\b(cant)\\b', 'can not', data)\n",
    "        data = re.sub(r'\\b(thats)\\b', 'that is', data)\n",
    "        data = re.sub(r'\\b(im)\\b', 'i am', data)\n",
    "        data = re.sub(r'\\b(ill)\\b', 'i will', data)\n",
    "        data = re.sub(r'\\b(ur)\\b', 'your', data)\n",
    "        data = re.sub(r'\\b(4)\\b', 'for', data)\n",
    "        data = re.sub(r'\\b(n)\\b', 'no', data)\n",
    "        data = re.sub(r'\\b(i\\'ll)\\b', 'i will', data)\n",
    "        data = re.sub(r'\\b(ü)\\b', 'you', data)\n",
    "        data = re.sub(r'\\b(&)\\b', 'and', data)\n",
    "        data = re.sub(r'\\b(txt)\\b', 'text', data)\n",
    "        data = re.sub(r'\\b(1)\\b', 'one', data)\n",
    "        data = re.sub(r'\\b(po)\\b', 'purchase order', data)\n",
    "        data = re.sub(r'\\b(dont)\\b', 'do not', data)\n",
    "        data = re.sub(r'\\b(don\\'t)\\b', 'do not', data)\n",
    "        data = re.sub(r'\\b(lor)\\b', 'lot', data)\n",
    "        data = re.sub(r'\\b(msg)\\b', 'message', data)\n",
    "        data = re.sub(r'\\b(wat)\\b', 'what', data)\n",
    "        data = re.sub(r'\\b(na)\\b', 'not available', data)\n",
    "        data = re.sub(r'\\b(pls)\\b', 'please', data)\n",
    "        data = re.sub(r'\\b(wkly)\\b', 'weekly', data)\n",
    "        data = re.sub(r'\\b(i\\'d)\\b', 'i would', data)\n",
    "        data = re.sub(r'\\b(2nd)\\b', 'second', data)\n",
    "        data = re.sub(r'\\b(usf)\\b', 'university of south florida', data)\n",
    "        data = re.sub(r'\\b(hor)\\b', 'hour', data)\n",
    "        data = re.sub(r'\\b(fr)\\b', 'for', data)\n",
    "        data = re.sub(r'\\b(gt)\\b', 'get', data)\n",
    "        data = re.sub(r'\\b(lt)\\b', 'let', data)\n",
    "        data = re.sub(r'\\b(comp)\\b', 'composition', data)\n",
    "        data = re.sub(r'\\b(go)\\b', 'gone', data)\n",
    "        data = re.sub(r'\\b(wan)\\b', 'want', data)\n",
    "        data = re.sub(r'\\b(mob)\\b', 'mobile', data)\n",
    "        data = re.sub(r'\\b(\\'s)\\b', 'is', data)\n",
    "        data = re.sub(r'\\b(m)\\b', 'i am', data)\n",
    "        data = re.sub(r'\\b(ll)\\b', 'will', data)\n",
    "        data = re.sub(r'\\b(its)\\b', 'it is', data)\n",
    "        data = re.sub(r'\\b(itis)\\b', 'it is', data)\n",
    "        data = re.sub(r'\\b(i\\'i)\\b', 'i', data)\n",
    "        data = re.sub(r'\\b(cos)\\b', 'because', data)\n",
    "        print(data)\n",
    "        return data"
   ]
  },
  {
   "cell_type": "code",
   "execution_count": 85,
   "metadata": {},
   "outputs": [
    {
     "name": "stdout",
     "output_type": "stream",
     "text": [
      " you CASA\n"
     ]
    }
   ],
   "source": [
    "salida=transformations(' u CASA')"
   ]
  },
  {
   "cell_type": "code",
   "execution_count": 86,
   "metadata": {},
   "outputs": [
    {
     "name": "stdout",
     "output_type": "stream",
     "text": [
      " you CASA\n"
     ]
    }
   ],
   "source": [
    "print(salida)"
   ]
  },
  {
   "cell_type": "code",
   "execution_count": 87,
   "metadata": {},
   "outputs": [],
   "source": [
    "def get_wordnet_pos(word):\n",
    "    \"\"\"Mapea las etiquetas POS de NLTK a etiquetas de WordNet.\"\"\"\n",
    "    tag = nltk.pos_tag([word])[0][1][0].upper()\n",
    "    tag_dict = {\"J\": wordnet.ADJ, \"N\": wordnet.NOUN, \"V\": wordnet.VERB, \"R\": wordnet.ADV}\n",
    "    return tag_dict.get(tag, wordnet.NOUN)"
   ]
  },
  {
   "cell_type": "code",
   "execution_count": 88,
   "metadata": {},
   "outputs": [
    {
     "data": {
      "text/plain": [
       "'n'"
      ]
     },
     "execution_count": 88,
     "metadata": {},
     "output_type": "execute_result"
    }
   ],
   "source": [
    "get_wordnet_pos('you house')"
   ]
  },
  {
   "cell_type": "code",
   "execution_count": 89,
   "metadata": {},
   "outputs": [],
   "source": [
    "def lemmatize_words(words):\n",
    "    \"\"\"Realiza la lematización de una lista de palabras.\"\"\"\n",
    "    lemmatizer = WordNetLemmatizer()\n",
    "    return [lemmatizer.lemmatize(word, get_wordnet_pos(word)) for word in words]\n"
   ]
  },
  {
   "cell_type": "code",
   "execution_count": 90,
   "metadata": {},
   "outputs": [
    {
     "data": {
      "text/plain": [
       "['y', 'o', 'u', ' ', 'h', 'o', 'u', 's', 'e']"
      ]
     },
     "execution_count": 90,
     "metadata": {},
     "output_type": "execute_result"
    }
   ],
   "source": [
    "lemmatize_words('you house')"
   ]
  },
  {
   "cell_type": "code",
   "execution_count": 91,
   "metadata": {},
   "outputs": [],
   "source": [
    "stop_words = set(stopwords.words('english'))"
   ]
  },
  {
   "cell_type": "code",
   "execution_count": 92,
   "metadata": {},
   "outputs": [],
   "source": [
    "def remove_stopwords(text):\n",
    "    words = text.split()\n",
    "    filtered_words = [word for word in words if word.lower() not in stop_words]\n",
    "    return ' '.join(filtered_words)"
   ]
  },
  {
   "cell_type": "code",
   "execution_count": 93,
   "metadata": {},
   "outputs": [
    {
     "data": {
      "text/plain": [
       "'house'"
      ]
     },
     "execution_count": 93,
     "metadata": {},
     "output_type": "execute_result"
    }
   ],
   "source": [
    "remove_stopwords('you to house')"
   ]
  }
 ],
 "metadata": {
  "kernelspec": {
   "display_name": ".venv",
   "language": "python",
   "name": "python3"
  },
  "language_info": {
   "codemirror_mode": {
    "name": "ipython",
    "version": 3
   },
   "file_extension": ".py",
   "mimetype": "text/x-python",
   "name": "python",
   "nbconvert_exporter": "python",
   "pygments_lexer": "ipython3",
   "version": "3.11.2"
  }
 },
 "nbformat": 4,
 "nbformat_minor": 2
}
