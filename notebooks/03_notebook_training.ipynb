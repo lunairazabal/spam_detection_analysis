{
 "cells": [
  {
   "cell_type": "markdown",
   "metadata": {},
   "source": [
    "cargamos los datos de la carpeta processeds que se supone que ya hayan sido creados previamente por el proceso de etl\n",
    "\n",
    "entrenamos los modelos con esos datos y los guardamos en la carpeta models como archivos .pkl en el caso de los modelos de ML y como archivos .h5 en el caso de los modelos de DL"
   ]
  }
 ],
 "metadata": {
  "language_info": {
   "name": "python"
  }
 },
 "nbformat": 4,
 "nbformat_minor": 2
}
